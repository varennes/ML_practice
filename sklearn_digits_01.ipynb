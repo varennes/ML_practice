{
 "cells": [
  {
   "cell_type": "markdown",
   "metadata": {},
   "source": [
    "# Classifying handwritten digits\n",
    "\n",
    "Here we use SVM's to classify the values of images of handwritten digits.\n",
    "We iterate over different Gaussian kernels in order to optimize the SVM's performance."
   ]
  },
  {
   "cell_type": "code",
   "execution_count": 12,
   "metadata": {
    "collapsed": true
   },
   "outputs": [],
   "source": [
    "# import relevant libraries, datasets of interest, classifiers, and performance metrics\n",
    "import matplotlib.pyplot as plt\n",
    "from sklearn import datasets, svm, metrics\n",
    "digits = datasets.load_digits();"
   ]
  },
  {
   "cell_type": "code",
   "execution_count": 13,
   "metadata": {},
   "outputs": [
    {
     "name": "stdout",
     "output_type": "stream",
     "text": [
      "[[  0.   0.   5. ...,   0.   0.   0.]\n",
      " [  0.   0.   0. ...,  10.   0.   0.]\n",
      " [  0.   0.   0. ...,  16.   9.   0.]\n",
      " ..., \n",
      " [  0.   0.   1. ...,   6.   0.   0.]\n",
      " [  0.   0.   2. ...,  12.   0.   0.]\n",
      " [  0.   0.  10. ...,  12.   1.   0.]]\n",
      "[0 1 2 ..., 8 9 8]\n"
     ]
    },
    {
     "data": {
      "image/png": "[encoded data removed]",
      "text/plain": [
       "<matplotlib.figure.Figure at 0x7f3ebaeebf50>"
      ]
     },
     "metadata": {},
     "output_type": "display_data"
    }
   ],
   "source": [
    "# output features of digits dataset\n",
    "print digits.data\n",
    "# output the true value of the digit represented by the features in digits.data\n",
    "print digits.target\n",
    "# output the image of the first few digits and theur true values, as an example\n",
    "i = 4;\n",
    "imageList = list(zip(digits.images[:i], digits.target[:i]));\n",
    "for j, (image, label) in enumerate(imageList):\n",
    "    plt.subplot(1, i, j+1)\n",
    "    plt.imshow(image, cmap=plt.cm.gray_r, interpolation='nearest')\n",
    "    plt.axis('off')\n",
    "    plt.title('True Val: %i' % label)\n",
    "plt.show()"
   ]
  },
  {
   "cell_type": "code",
   "execution_count": 14,
   "metadata": {},
   "outputs": [
    {
     "name": "stdout",
     "output_type": "stream",
     "text": [
      "Number of digits = 1797\n"
     ]
    },
    {
     "data": {
      "text/plain": [
       "(1797, 64)"
      ]
     },
     "execution_count": 14,
     "metadata": {},
     "output_type": "execute_result"
    }
   ],
   "source": [
    "# import datasets, classifiers and performance metrics\n",
    "nDigit = len(digits.images);\n",
    "print 'Number of digits = %i' % nDigit\n",
    "# reshape digits.images into a matrix\n",
    "# each image is an 8x8 of pixels so reshape into a matrix with nDigit rows and 64 columns\n",
    "digitMatrix = digits.images.reshape((nDigit,-1));\n",
    "digitMatrix.shape"
   ]
  },
  {
   "cell_type": "code",
   "execution_count": 15,
   "metadata": {
    "collapsed": true,
    "scrolled": true
   },
   "outputs": [],
   "source": [
    "# make classifier with SVM using a gaussian kernel\n",
    "classifier = svm.SVC( kernel='rbf', gamma=0.01)"
   ]
  },
  {
   "cell_type": "code",
   "execution_count": 16,
   "metadata": {
    "collapsed": true
   },
   "outputs": [],
   "source": [
    "# train the classifier using about 60% of images\n",
    "nTrain = int(nDigit * 0.6);\n",
    "classifier.fit(digitMatrix[:nTrain], digits.target[:nTrain]);"
   ]
  },
  {
   "cell_type": "code",
   "execution_count": 17,
   "metadata": {
    "collapsed": true
   },
   "outputs": [],
   "source": [
    "# predict reamining digit values using classifier\n",
    "testTrue = digits.target[nTrain:];\n",
    "testPred = classifier.predict(digitMatrix[nTrain:]);"
   ]
  },
  {
   "cell_type": "code",
   "execution_count": 18,
   "metadata": {},
   "outputs": [
    {
     "name": "stdout",
     "output_type": "stream",
     "text": [
      "Classification report for classifier SVC(C=1.0, cache_size=200, class_weight=None, coef0=0.0,\n",
      "  decision_function_shape=None, degree=3, gamma=0.01, kernel='rbf',\n",
      "  max_iter=-1, probability=False, random_state=None, shrinking=True,\n",
      "  tol=0.001, verbose=False):\n",
      "             precision    recall  f1-score   support\n",
      "\n",
      "          0       1.00      0.62      0.77        71\n",
      "          1       1.00      0.66      0.79        73\n",
      "          2       1.00      0.55      0.71        71\n",
      "          3       1.00      0.68      0.81        74\n",
      "          4       1.00      0.76      0.86        74\n",
      "          5       1.00      0.89      0.94        71\n",
      "          6       1.00      0.55      0.71        74\n",
      "          7       1.00      0.54      0.70        72\n",
      "          8       0.24      1.00      0.39        68\n",
      "          9       1.00      0.79      0.88        71\n",
      "\n",
      "avg / total       0.93      0.70      0.76       719\n",
      "\n",
      "\n",
      "Confusion matrix:\n",
      "[[44  0  0  0  0  0  0  0 27  0]\n",
      " [ 0 48  0  0  0  0  0  0 25  0]\n",
      " [ 0  0 39  0  0  0  0  0 32  0]\n",
      " [ 0  0  0 50  0  0  0  0 24  0]\n",
      " [ 0  0  0  0 56  0  0  0 18  0]\n",
      " [ 0  0  0  0  0 63  0  0  8  0]\n",
      " [ 0  0  0  0  0  0 41  0 33  0]\n",
      " [ 0  0  0  0  0  0  0 39 33  0]\n",
      " [ 0  0  0  0  0  0  0  0 68  0]\n",
      " [ 0  0  0  0  0  0  0  0 15 56]]\n"
     ]
    }
   ],
   "source": [
    "print('Classification report for classifier %s:\\n%s\\n'\n",
    "      % (classifier, metrics.classification_report( testTrue, testPred)))\n",
    "print('Confusion matrix:\\n%s' % metrics.confusion_matrix( testTrue, testPred))"
   ]
  },
  {
   "cell_type": "markdown",
   "metadata": {},
   "source": [
    "As shown above, the current classifier does not do that good of a job predicting the digits. In particular, the '8' digit has the worst performance.\n",
    "\n",
    "Lets look at a few examples of the digit images and their corresponding predicted values."
   ]
  },
  {
   "cell_type": "code",
   "execution_count": 19,
   "metadata": {},
   "outputs": [
    {
     "data": {
      "image/png": "[encoded data removed]",
      "text/plain": [
       "<matplotlib.figure.Figure at 0x7f3e83a89f10>"
      ]
     },
     "metadata": {},
     "output_type": "display_data"
    }
   ],
   "source": [
    "i = 5;\n",
    "imageList = list(zip(digits.images[nTrain:nTrain+i], testPred[:i]));\n",
    "for j, (image, label) in enumerate(imageList):\n",
    "    plt.subplot(1, i, j+1)\n",
    "    plt.imshow(image, cmap=plt.cm.gray_r, interpolation='nearest')\n",
    "    plt.axis('off')\n",
    "    plt.title('Pred: %i' % label)\n",
    "plt.show();\n",
    "nTest = len(testPred);"
   ]
  },
  {
   "cell_type": "markdown",
   "metadata": {},
   "source": [
    "Lets find a gamma value that has the best performance in terms of F1 score."
   ]
  },
  {
   "cell_type": "code",
   "execution_count": 20,
   "metadata": {},
   "outputs": [],
   "source": [
    "gammaList = [ 0.1, 0.05, 0.01, 0.005, 0.001, 0.0005, 0.0001];\n",
    "f1_best   = 0.0;\n",
    "testTrue  = digits.target[nTrain:];\n",
    "\n",
    "for g in gammaList:\n",
    "    classifier = svm.SVC( kernel='rbf', gamma=g);\n",
    "    classifier.fit(digitMatrix[:nTrain], digits.target[:nTrain]);\n",
    "\n",
    "    pred_trial = classifier.predict(digitMatrix[nTrain:]);\n",
    "    f1_trial   = metrics.f1_score( testTrue, pred_trial, average='macro')\n",
    "\n",
    "    if f1_trial > f1_best:\n",
    "        gamma_best = g;\n",
    "        f1_best   = f1_trial;\n",
    "        pred_best = pred_trial;"
   ]
  },
  {
   "cell_type": "code",
   "execution_count": 21,
   "metadata": {},
   "outputs": [
    {
     "name": "stdout",
     "output_type": "stream",
     "text": [
      "Best Gamma = 0.0010 \n",
      "\n",
      "Classification report for classifier SVC(C=1.0, cache_size=200, class_weight=None, coef0=0.0,\n",
      "  decision_function_shape=None, degree=3, gamma=0.0001, kernel='rbf',\n",
      "  max_iter=-1, probability=False, random_state=None, shrinking=True,\n",
      "  tol=0.001, verbose=False):\n",
      "             precision    recall  f1-score   support\n",
      "\n",
      "          0       0.99      0.99      0.99        71\n",
      "          1       0.99      0.96      0.97        73\n",
      "          2       0.99      0.97      0.98        71\n",
      "          3       0.97      0.84      0.90        74\n",
      "          4       0.99      0.96      0.97        74\n",
      "          5       0.95      0.99      0.97        71\n",
      "          6       0.99      0.99      0.99        74\n",
      "          7       0.95      1.00      0.97        72\n",
      "          8       0.92      1.00      0.96        68\n",
      "          9       0.95      0.97      0.96        71\n",
      "\n",
      "avg / total       0.97      0.97      0.96       719\n",
      "\n",
      "\n",
      "Confusion matrix:\n",
      "[[70  0  0  0  1  0  0  0  0  0]\n",
      " [ 0 70  1  0  0  0  0  0  1  1]\n",
      " [ 1  0 69  1  0  0  0  0  0  0]\n",
      " [ 0  0  0 62  0  3  0  4  5  0]\n",
      " [ 0  0  0  0 71  0  0  0  0  3]\n",
      " [ 0  0  0  0  0 70  1  0  0  0]\n",
      " [ 0  1  0  0  0  0 73  0  0  0]\n",
      " [ 0  0  0  0  0  0  0 72  0  0]\n",
      " [ 0  0  0  0  0  0  0  0 68  0]\n",
      " [ 0  0  0  1  0  1  0  0  0 69]]\n"
     ]
    }
   ],
   "source": [
    "# output info of the best classifier\n",
    "print 'Best Gamma = %.4f \\n' %gamma_best\n",
    "print('Classification report for classifier %s:\\n%s\\n'\n",
    "      % (classifier, metrics.classification_report( testTrue, pred_best)))\n",
    "print('Confusion matrix:\\n%s' % metrics.confusion_matrix( testTrue, pred_best))"
   ]
  },
  {
   "cell_type": "markdown",
   "metadata": {},
   "source": [
    "As shown above, the F1 score improved to 0.96.\n",
    "Lets take a look at the same few examples to see how they fare now."
   ]
  },
  {
   "cell_type": "code",
   "execution_count": 22,
   "metadata": {},
   "outputs": [
    {
     "data": {
      "image/png": "[encoded data removed]",
      "text/plain": [
       "<matplotlib.figure.Figure at 0x7f3e83a51090>"
      ]
     },
     "metadata": {},
     "output_type": "display_data"
    }
   ],
   "source": [
    "# we see that the optimized value of gamma is much better at predicting the digits\n",
    "i = 5;\n",
    "imageList = list(zip(digits.images[nTrain:nTrain+i], pred_best[:i]));\n",
    "for j, (image, label) in enumerate(imageList):\n",
    "    plt.subplot(1, i, j+1)\n",
    "    plt.imshow(image, cmap=plt.cm.gray_r, interpolation='nearest')\n",
    "    plt.axis('off')\n",
    "    plt.title('Pred: %i' % label)\n",
    "plt.show();"
   ]
  },
  {
   "cell_type": "code",
   "execution_count": null,
   "metadata": {
    "collapsed": true
   },
   "outputs": [],
   "source": []
  }
 ],
 "metadata": {
  "kernelspec": {
   "display_name": "Python 2",
   "language": "python",
   "name": "python2"
  },
  "language_info": {
   "codemirror_mode": {
    "name": "ipython",
    "version": 2
   },
   "file_extension": ".py",
   "mimetype": "text/x-python",
   "name": "python",
   "nbconvert_exporter": "python",
   "pygments_lexer": "ipython2",
   "version": "2.7.13"
  }
 },
 "nbformat": 4,
 "nbformat_minor": 2
}
