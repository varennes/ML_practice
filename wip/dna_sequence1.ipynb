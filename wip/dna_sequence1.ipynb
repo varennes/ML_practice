{
 "cells": [
  {
   "cell_type": "code",
   "execution_count": 1,
   "metadata": {
    "collapsed": true
   },
   "outputs": [],
   "source": [
    "# import random\n",
    "import random\n",
    "random.seed()"
   ]
  },
  {
   "cell_type": "code",
   "execution_count": 2,
   "metadata": {},
   "outputs": [],
   "source": [
    "nucleotides = 'ACGT'"
   ]
  },
  {
   "cell_type": "code",
   "execution_count": 3,
   "metadata": {},
   "outputs": [
    {
     "name": "stdout",
     "output_type": "stream",
     "text": [
      "GGAAGAACCA\n"
     ]
    }
   ],
   "source": [
    "i = 10;\n",
    "seq = ''.join( [random.choice(nucleotides) for _ in range(i)])\n",
    "print seq"
   ]
  },
  {
   "cell_type": "code",
   "execution_count": 4,
   "metadata": {
    "collapsed": true
   },
   "outputs": [],
   "source": [
    "# make a function that finds longest common prefix between two sequences\n",
    "def longestCommonPrefix( s1, s2):\n",
    "    i = 0\n",
    "    while i < len(s1) and i < len(s2) and s1[i] == s2[i]:\n",
    "        i += 1\n",
    "    return s1[:i]"
   ]
  },
  {
   "cell_type": "code",
   "execution_count": 5,
   "metadata": {},
   "outputs": [
    {
     "data": {
      "text/plain": [
       "'ACCA'"
      ]
     },
     "execution_count": 5,
     "metadata": {},
     "output_type": "execute_result"
    }
   ],
   "source": [
    "s1 = 'ACCA'+''.join( [random.choice(nucleotides) for _ in range(4)])\n",
    "s2 = 'ACCA'+''.join( [random.choice(nucleotides) for _ in range(6)])\n",
    "longestCommonPrefix( s1, s2)"
   ]
  },
  {
   "cell_type": "code",
   "execution_count": 6,
   "metadata": {
    "collapsed": true
   },
   "outputs": [],
   "source": [
    "# make a function that outputs reverse complement of input DNA sequence\n",
    "def reverseComplement(s):\n",
    "    complement = { 'A': 'T', 'C' : 'G', 'G' : 'C', 'T' : 'A'};\n",
    "    r = ''\n",
    "    for base in s:\n",
    "        r += complement[base]\n",
    "    return r"
   ]
  },
  {
   "cell_type": "code",
   "execution_count": 7,
   "metadata": {},
   "outputs": [
    {
     "name": "stdout",
     "output_type": "stream",
     "text": [
      "CTTTGCACCT\n",
      "GAAACGTGGA\n"
     ]
    }
   ],
   "source": [
    "s1 = ''.join( [random.choice(nucleotides) for _ in range(10)])\n",
    "r1 = reverseComplement(s1)\n",
    "print s1\n",
    "print r1"
   ]
  },
  {
   "cell_type": "code",
   "execution_count": 8,
   "metadata": {
    "collapsed": true
   },
   "outputs": [],
   "source": [
    "def readGenomeFile(filename):\n",
    "    genome = ''\n",
    "    with open(filename, 'r') as f:\n",
    "        for line in f:\n",
    "            # ignore header line with genome information\n",
    "            if not line[0] == '>':\n",
    "                genome += line.rstrip()\n",
    "    return genome"
   ]
  },
  {
   "cell_type": "code",
   "execution_count": 12,
   "metadata": {},
   "outputs": [
    {
     "name": "stdout",
     "output_type": "stream",
     "text": [
      "GGGCGGCGACCTCGCGGGTTTTCGCTATTTATGAAAATTTTCCGGTTTAA\n",
      "48502\n"
     ]
    }
   ],
   "source": [
    "# import lambda phage genome\n",
    "lambdaGenome = readGenomeFile('lambda_virus.fa')\n",
    "print lambdaGenome[:50]\n",
    "print len(lambdaGenome)"
   ]
  },
  {
   "cell_type": "code",
   "execution_count": 13,
   "metadata": {},
   "outputs": [
    {
     "name": "stdout",
     "output_type": "stream",
     "text": [
      "{'A': 12334, 'C': 11362, 'T': 11986, 'G': 12820}\n"
     ]
    }
   ],
   "source": [
    "# count the numby of each nucleotide is in the lambda phage genome\n",
    "countBase = { 'A': 0, 'C' : 0, 'G' : 0, 'T' : 0}\n",
    "for base in lambdaGenome:\n",
    "    countBase[base] += 1\n",
    "print countBase"
   ]
  },
  {
   "cell_type": "code",
   "execution_count": 14,
   "metadata": {},
   "outputs": [
    {
     "data": {
      "text/plain": [
       "Counter({'A': 12334, 'C': 11362, 'G': 12820, 'T': 11986})"
      ]
     },
     "execution_count": 14,
     "metadata": {},
     "output_type": "execute_result"
    }
   ],
   "source": [
    "import collections\n",
    "collections.Counter(lambdaGenome)"
   ]
  },
  {
   "cell_type": "code",
   "execution_count": null,
   "metadata": {
    "collapsed": true
   },
   "outputs": [],
   "source": []
  }
 ],
 "metadata": {
  "kernelspec": {
   "display_name": "Python 2",
   "language": "python",
   "name": "python2"
  },
  "language_info": {
   "codemirror_mode": {
    "name": "ipython",
    "version": 2
   },
   "file_extension": ".py",
   "mimetype": "text/x-python",
   "name": "python",
   "nbconvert_exporter": "python",
   "pygments_lexer": "ipython2",
   "version": "2.7.13"
  }
 },
 "nbformat": 4,
 "nbformat_minor": 2
}
