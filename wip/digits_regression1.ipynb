{
 "cells": [
  {
   "cell_type": "code",
   "execution_count": 2,
   "metadata": {
    "collapsed": true
   },
   "outputs": [],
   "source": [
    "# import relevant libraries, datasets of interest, classifiers, and performance metrics\n",
    "import numpy as np\n",
    "import matplotlib.pyplot as plt\n",
    "from sklearn import datasets\n",
    "from sklearn.preprocessing import scale\n",
    "digits = datasets.load_digits();"
   ]
  },
  {
   "cell_type": "markdown",
   "metadata": {},
   "source": [
    "Each digit is comprised of an 8x8 pixel image.\n",
    "We can reshape the image data to make a matrix in which each row represents an image, and the columns are the pixel values. "
   ]
  },
  {
   "cell_type": "code",
   "execution_count": 3,
   "metadata": {},
   "outputs": [
    {
     "name": "stdout",
     "output_type": "stream",
     "text": [
      "There are 1797 total images of digits, each with 64 pixels.\n",
      "x has dimensions (1797, 65)\n",
      "y has dimensions (1797, 1)\n"
     ]
    }
   ],
   "source": [
    "nDigits = digits.images.shape[0]\n",
    "# x = digits.images.reshape( nDigits, 64)\n",
    "x = digits.data\n",
    "x = scale(x)\n",
    "x = np.insert( x, 0, 1, axis=1)\n",
    "y = digits.target.reshape( nDigits, 1)\n",
    "\n",
    "print 'There are %i total images of digits, each with 64 pixels.' % nDigits\n",
    "print 'x has dimensions %s' %(x.shape,)\n",
    "print 'y has dimensions %s' %(y.shape,)"
   ]
  },
  {
   "cell_type": "markdown",
   "metadata": {},
   "source": [
    "We will perform logistic regression on the features contained in the pixel values of the digits. Lets define the cost function and its gradient."
   ]
  },
  {
   "cell_type": "code",
   "execution_count": 4,
   "metadata": {
    "collapsed": true
   },
   "outputs": [],
   "source": [
    "from scipy.special import expit # the logistic function \n",
    "\n",
    "def CostFunction( theta, x, y, l):\n",
    "    '''\n",
    "    INPUTS:\n",
    "    theta = parameters of logistic regression\n",
    "    x = features of our data\n",
    "    y = classifiers of our data\n",
    "    l = \"lambda,\" regularization parameter\n",
    "    OUTPUTS:\n",
    "    J = logistic regression cost function\n",
    "    '''\n",
    "    m = y.shape[0]\n",
    "    h = expit(x.dot(theta))\n",
    "    J =  np.log(h).dot(-y.T) - np.log( 1-h).dot( 1-y.T)\n",
    "    J += theta.T.dot(theta) * l * 0.5 \n",
    "    J = J / m;\n",
    "    return J\n",
    "\n",
    "def CostGradient( theta, x, y, l):\n",
    "    '''\n",
    "    INPUTS:\n",
    "    theta = parameters of logistic regression\n",
    "    x = features of our data\n",
    "    y = classifiers of our data\n",
    "    l = \"lambda,\" regularization parameter\n",
    "    OUTPUTS:\n",
    "    gradJ = gradient of cost function\n",
    "    '''\n",
    "    m = y.shape[0];\n",
    "    h = expit(x.dot(theta));\n",
    "    gradJ = x.T.dot( expit(x.dot(theta)) - y.T)\n",
    "    gradJ[1:] += theta[1:]*(1.*l)\n",
    "    gradJ = gradJ*(1./m)\n",
    "    return gradJ"
   ]
  },
  {
   "cell_type": "code",
   "execution_count": 5,
   "metadata": {
    "collapsed": true
   },
   "outputs": [],
   "source": [
    "# test to see if functions work without any errors\n",
    "initial_theta = np.zeros((x.shape[1],1))\n",
    "J = CostFunction( initial_theta, x, y, 0.0)\n",
    "gradJ = CostGradient( initial_theta, x, y, 0.0)"
   ]
  },
  {
   "cell_type": "markdown",
   "metadata": {},
   "source": [
    "We will use one vs all classification to train the model. Each class (in this case the digit value) will be trained independently of all other classes."
   ]
  },
  {
   "cell_type": "code",
   "execution_count": 13,
   "metadata": {
    "collapsed": true
   },
   "outputs": [],
   "source": [
    "from scipy.optimize import fmin_cg\n",
    "\n",
    "def ThetaOneVsAll( Nclass, x, y):\n",
    "    '''\n",
    "    Calculate the optimal parameter values of theta for each class\n",
    "    INPUT:\n",
    "    Nclass = number of classes\n",
    "    OUTPUT\n",
    "    thetaMatrix = Matrix of optimal parameters, each row corresponds to a class\n",
    "    '''\n",
    "    thetaMatrix = np.zeros((Nclass, len(x[0])))\n",
    "    thetai = np.zeros((len(x[0]),1)) + 0.001\n",
    "    thetai = thetai.reshape(len(thetai),)\n",
    "    \n",
    "    ytemp = y.reshape( len(y),)\n",
    "    # one-vs-all classification\n",
    "    # perform logistic regression for each class, training each independently\n",
    "    for i in xrange(Nclass):\n",
    "        yClass = np.array([ 1 if yi == 1 else 0 for yi in ytemp])\n",
    "        print 'Optimizing for digit %d '%i\n",
    "        \n",
    "        out = fmin_cg( CostFunction, x0=thetai, fprime=CostGradient, \\\n",
    "                    args=(x,yClass,0.0), maxiter=50, disp=False)\n",
    "\n",
    "        thetaMatrix[i,:] = out[0]\n",
    "\n",
    "    return thetaMatrix"
   ]
  },
  {
   "cell_type": "code",
   "execution_count": 14,
   "metadata": {},
   "outputs": [
    {
     "name": "stdout",
     "output_type": "stream",
     "text": [
      "Optimizing for digit 0 \n",
      "Optimizing for digit 1 \n",
      "Optimizing for digit 2 \n",
      "Optimizing for digit 3 \n",
      "Optimizing for digit 4 \n",
      "Optimizing for digit 5 \n",
      "Optimizing for digit 6 \n",
      "Optimizing for digit 7 \n",
      "Optimizing for digit 8 \n",
      "Optimizing for digit 9 \n"
     ]
    }
   ],
   "source": [
    "thetaMatrix = ThetaOneVsAll( 10, x, y)"
   ]
  },
  {
   "cell_type": "markdown",
   "metadata": {},
   "source": [
    "The prediction for the i'th row is found to be the index at which Theta*X[i] is maximized."
   ]
  },
  {
   "cell_type": "code",
   "execution_count": 15,
   "metadata": {
    "collapsed": true
   },
   "outputs": [],
   "source": [
    "def PredictOneVsAll( thetaMatrix, x):\n",
    "    '''\n",
    "    INPUTS:\n",
    "    thetaMatrix = Matrix of optimal parameters, each row corresponds to a class\n",
    "    OUTPUT:\n",
    "    pred = predicted class for each corresponding to each row in X\n",
    "    '''\n",
    "    pred = np.argmax( expit(x.dot(thetaMatrix.T)), axis=1)\n",
    "    return pred\n",
    "\n",
    "def h(mytheta,myX): #Logistic hypothesis function\n",
    "    return expit(np.dot(myX,mytheta))\n",
    "\n",
    "def predict2(myTheta,myrow):\n",
    "    \"\"\"\n",
    "    Function that computes a hypothesis for an individual image (row in X)\n",
    "    and returns the predicted integer corresponding to the handwritten image\n",
    "    \"\"\"\n",
    "    classes = range(10)\n",
    "    hypots  = [0]*len(classes)\n",
    "    #Compute a hypothesis for each possible outcome\n",
    "    #Choose the maximum hypothesis to find result\n",
    "    for i in xrange(len(classes)):\n",
    "        hypots[i] = h(myTheta[i],myrow)\n",
    "    return classes[np.argmax(np.array(hypots))]    "
   ]
  },
  {
   "cell_type": "code",
   "execution_count": 28,
   "metadata": {},
   "outputs": [
    {
     "name": "stdout",
     "output_type": "stream",
     "text": [
      "[0 0 0 0 0 0 0 0 0 0]\n",
      "[[0 1 2 3 4 5 6 7 8 9]]\n"
     ]
    },
    {
     "data": {
      "text/plain": [
       "1797"
      ]
     },
     "execution_count": 28,
     "metadata": {},
     "output_type": "execute_result"
    }
   ],
   "source": [
    "yPredict = PredictOneVsAll( thetaMatrix, x)\n",
    "# print yPredict[:20]\n",
    "# print y[:20].T\n",
    "\n",
    "for irow in xrange(x.shape[0]):\n",
    "    yPredict[irow] = predict2(thetaMatrix,x[irow])\n",
    "    \n",
    "print yPredict[:10]\n",
    "print y[:10].T\n",
    "yPredict[1] == y[1][0]"
   ]
  },
  {
   "cell_type": "code",
   "execution_count": 29,
   "metadata": {},
   "outputs": [
    {
     "name": "stdout",
     "output_type": "stream",
     "text": [
      "Training set accuracy: 9.9%\n"
     ]
    }
   ],
   "source": [
    "def predictOneVsAll(myTheta,myrow):\n",
    "    \"\"\"\n",
    "    Function that computes a hypothesis for an individual image (row in X)\n",
    "    and returns the predicted integer corresponding to the handwritten image\n",
    "    \"\"\"\n",
    "    classes = [10] + range(1,10)\n",
    "    hypots  = [0]*len(classes)\n",
    "    #Compute a hypothesis for each possible outcome\n",
    "    #Choose the maximum hypothesis to find result\n",
    "    for i in xrange(len(classes)):\n",
    "        hypots[i] = expit(myrow.dot(myTheta[i].T))\n",
    "    return classes[np.argmax(np.array(hypots))]    \n",
    "\n",
    "n_correct, n_total = 0., 0.\n",
    "incorrect_indices = []\n",
    "for i in xrange(x.shape[0]):\n",
    "    n_total += 1\n",
    "    if yPredict[i] == y[i][0]: \n",
    "        n_correct += 1\n",
    "    else: incorrect_indices.append(irow)\n",
    "print \"Training set accuracy: %0.1f%%\"%(100*(n_correct/n_total))"
   ]
  },
  {
   "cell_type": "code",
   "execution_count": null,
   "metadata": {
    "collapsed": true
   },
   "outputs": [],
   "source": []
  }
 ],
 "metadata": {
  "kernelspec": {
   "display_name": "Python 2",
   "language": "python",
   "name": "python2"
  },
  "language_info": {
   "codemirror_mode": {
    "name": "ipython",
    "version": 2
   },
   "file_extension": ".py",
   "mimetype": "text/x-python",
   "name": "python",
   "nbconvert_exporter": "python",
   "pygments_lexer": "ipython2",
   "version": "2.7.13"
  }
 },
 "nbformat": 4,
 "nbformat_minor": 2
}
